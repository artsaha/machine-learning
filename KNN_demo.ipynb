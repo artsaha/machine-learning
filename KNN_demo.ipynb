{
 "cells": [
  {
   "cell_type": "code",
   "id": "initial_id",
   "metadata": {
    "collapsed": true,
    "ExecuteTime": {
     "end_time": "2024-11-17T15:29:33.025694Z",
     "start_time": "2024-11-17T15:29:25.990272Z"
    }
   },
   "source": [
    "import pandas as pd \n",
    "from sklearn.neighbors import KNeighborsClassifier\n",
    "from ourKNN import KNN \n",
    "\n",
    "import numpy as np\n",
    "from sklearn import datasets, model_selection\n",
    "import matplotlib.pyplot as plt\n",
    "%matplotlib inline  "
   ],
   "outputs": [],
   "execution_count": 1
  },
  {
   "metadata": {
    "ExecuteTime": {
     "end_time": "2024-11-17T15:30:29.347671Z",
     "start_time": "2024-11-17T15:30:29.319995Z"
    }
   },
   "cell_type": "code",
   "source": [
    "def load_dataset(split):\n",
    "    \"\"\"Load and split the dataset into training and test parts.\n",
    "    \n",
    "    Parameters\n",
    "    ----------\n",
    "    split : float in range (0, 1)\n",
    "        Fraction of the data used for training.\n",
    "    \n",
    "    Returns\n",
    "    -------\n",
    "    X_train : array, shape (N_train, 4)\n",
    "        Training features.\n",
    "    y_train : array, shape (N_train)\n",
    "        Training labels.\n",
    "    X_test : array, shape (N_test, 4)\n",
    "        Test features.\n",
    "    y_test : array, shape (N_test)\n",
    "        Test labels.\n",
    "    \"\"\"\n",
    "    dataset = datasets.load_iris()\n",
    "    X, y = dataset['data'], dataset['target']\n",
    "    X_train, X_test, y_train, y_test = model_selection.train_test_split(X, y, random_state=123, test_size=(1 - split))\n",
    "    return X_train, X_test, y_train, y_test"
   ],
   "id": "4a713cc7842ff3a1",
   "outputs": [],
   "execution_count": 4
  },
  {
   "metadata": {
    "ExecuteTime": {
     "end_time": "2024-11-17T15:30:31.441872Z",
     "start_time": "2024-11-17T15:30:31.409741Z"
    }
   },
   "cell_type": "code",
   "source": [
    "split = 0.75\n",
    "X_train, X_test, y_train, y_test = load_dataset(split)"
   ],
   "id": "33e2e55b03a533ac",
   "outputs": [],
   "execution_count": 5
  },
  {
   "metadata": {
    "ExecuteTime": {
     "end_time": "2024-11-17T15:31:22.804401Z",
     "start_time": "2024-11-17T15:31:22.786215Z"
    }
   },
   "cell_type": "code",
   "source": [
    "knn = KNN(3)\n",
    "knn.fit(X_train, y_train)"
   ],
   "id": "8abc116b5456eb92",
   "outputs": [],
   "execution_count": 6
  },
  {
   "metadata": {
    "ExecuteTime": {
     "end_time": "2024-11-17T15:36:34.638935Z",
     "start_time": "2024-11-17T15:36:34.561708Z"
    }
   },
   "cell_type": "code",
   "source": "y_pred = knn.predict(X_test)",
   "id": "5cbc66b62af98fbd",
   "outputs": [],
   "execution_count": 10
  },
  {
   "metadata": {
    "ExecuteTime": {
     "end_time": "2024-11-17T15:36:59.720001Z",
     "start_time": "2024-11-17T15:36:59.711451Z"
    }
   },
   "cell_type": "code",
   "source": [
    "def accuracy(y_hat, y):\n",
    "    total = 0\n",
    "    N = len(y_hat)\n",
    "    for i in range(N):\n",
    "        total += (y_hat[i] == y[i])\n",
    "    res = total /N \n",
    "    ## BUT BETTER THIS WAY than using simple Python\n",
    "    return np.mean(y_hat == y)\n",
    "    "
   ],
   "id": "4fa1d01732f0157d",
   "outputs": [],
   "execution_count": 12
  },
  {
   "metadata": {
    "ExecuteTime": {
     "end_time": "2024-11-17T15:37:00.926315Z",
     "start_time": "2024-11-17T15:37:00.895520Z"
    }
   },
   "cell_type": "code",
   "source": "accuracy(y_pred, y_test)",
   "id": "5329adfc70c2ffa0",
   "outputs": [
    {
     "data": {
      "text/plain": [
       "np.float64(0.9473684210526315)"
      ]
     },
     "execution_count": 13,
     "metadata": {},
     "output_type": "execute_result"
    }
   ],
   "execution_count": 13
  },
  {
   "metadata": {
    "ExecuteTime": {
     "end_time": "2024-11-17T15:47:38.663688Z",
     "start_time": "2024-11-17T15:47:36.469674Z"
    }
   },
   "cell_type": "code",
   "source": [
    "train_acc = []\n",
    "test_acc = [] \n",
    "\n",
    "for k in range(2, 23):\n",
    "    knn = KNN(k)\n",
    "    knn.fit(X_train, y_train)\n",
    "    y_train_pred = knn.predict(X_train)\n",
    "    acc_train = accuracy(y_train_pred, y_train)\n",
    "    y_test_pred = knn.predict(X_test)\n",
    "    acc = accuracy(y_test_pred, y_test)\n",
    "    \n",
    "    train_acc.append(acc_train)\n",
    "    test_acc.append(acc)\n",
    "    \n",
    "plt.plot(range(2,23), train_acc)\n",
    "plt.plot(range(2,23), test_acc)\n",
    "plt.xticks(range(3,21))\n",
    "plt.show()"
   ],
   "id": "b77be5a2eb4f2c42",
   "outputs": [
    {
     "data": {
      "text/plain": [
       "<Figure size 640x480 with 1 Axes>"
      ],
      "image/png": "[encoded data removed]"
     },
     "metadata": {},
     "output_type": "display_data"
    }
   ],
   "execution_count": 17
  }
 ],
 "metadata": {
  "kernelspec": {
   "display_name": "Python 3",
   "language": "python",
   "name": "python3"
  },
  "language_info": {
   "codemirror_mode": {
    "name": "ipython",
    "version": 2
   },
   "file_extension": ".py",
   "mimetype": "text/x-python",
   "name": "python",
   "nbconvert_exporter": "python",
   "pygments_lexer": "ipython2",
   "version": "2.7.6"
  }
 },
 "nbformat": 4,
 "nbformat_minor": 5
}
